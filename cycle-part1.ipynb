{
 "cells": [
  {
   "cell_type": "code",
   "execution_count": null,
   "metadata": {},
   "outputs": [],
   "source": [
    "sc"
   ]
  },
  {
   "cell_type": "markdown",
   "metadata": {},
   "source": [
    "# BIke Sharing"
   ]
  },
  {
   "cell_type": "code",
   "execution_count": null,
   "metadata": {},
   "outputs": [],
   "source": [
    "path = \"/Users/akashsoni/Desktop/Bike-Sharing-Dataset/bike.csv\"\n",
    "raw_data = sc.textFile(path)\n",
    "data_count= raw_data.count()"
   ]
  },
  {
   "cell_type": "code",
   "execution_count": null,
   "metadata": {},
   "outputs": [],
   "source": [
    "records = raw_data.map(lambda x: x.split(\",\"))\n",
    "first = records.first()\n",
    "print (first)"
   ]
  },
  {
   "cell_type": "code",
   "execution_count": null,
   "metadata": {},
   "outputs": [],
   "source": [
    "print (data_count)"
   ]
  },
  {
   "cell_type": "markdown",
   "metadata": {},
   "source": [
    "# Now we have 17379 hourly records,we removed column name already by using unix command\n",
    " sed 1d hour.csv > new_hour.csv We will ignore the record ID and raw date columns. \n",
    "We will also ignore the casual and registered count target variables and focus on the \n",
    "overall count variable, cnt (which is the sum of the other two counts)"
   ]
  },
  {
   "cell_type": "markdown",
   "metadata": {},
   "source": [
    "We will first cache our dataset, since we will be reading from it many times:"
   ]
  },
  {
   "cell_type": "code",
   "execution_count": 5,
   "metadata": {},
   "outputs": [
    {
     "data": {
      "text/plain": [
       "PythonRDD[4] at RDD at PythonRDD.scala:48"
      ]
     },
     "execution_count": 5,
     "metadata": {},
     "output_type": "execute_result"
    }
   ],
   "source": [
    "records.cache()"
   ]
  },
  {
   "cell_type": "markdown",
   "metadata": {},
   "source": [
    "now extract each extract each catagorical variable into a binary vector form \n",
    "Let's define a function that will extract this mapping from our dataset for a given column:"
   ]
  },
  {
   "cell_type": "code",
   "execution_count": 6,
   "metadata": {},
   "outputs": [],
   "source": [
    "def get_mapping(rdd, idx):\n",
    "    return rdd.map(lambda fields: fields[idx]).distinct().zipWithIndex().collectAsMap()"
   ]
  },
  {
   "cell_type": "markdown",
   "metadata": {},
   "source": [
    "now our function first map the field to its unique values and then uses the zipwithindex \n",
    "transformation to formed key value rdd.\n",
    "where key is the variable and value is the index\n",
    "We can test our function on the third variable column (index 2):\n",
    "so i am taking records is rdd and ,2 is index of 3rd variable\n",
    "\n",
    "Task 3.1"
   ]
  },
  {
   "cell_type": "code",
   "execution_count": 7,
   "metadata": {},
   "outputs": [
    {
     "name": "stdout",
     "output_type": "stream",
     "text": [
      "mapping of feature catagorical columns: {'1': 0, '4': 1, '2': 2, '3': 3}\n"
     ]
    }
   ],
   "source": [
    "print(\"mapping of feature catagorical columns: %s\" %get_mapping(records,2))"
   ]
  },
  {
   "cell_type": "markdown",
   "metadata": {},
   "source": [
    "from now we ll apply above function to each categorical column \n",
    "for variable index from 2 to 9):"
   ]
  },
  {
   "cell_type": "code",
   "execution_count": 8,
   "metadata": {},
   "outputs": [],
   "source": [
    "mappings = [get_mapping(records, i) for i in range(2,10)]\n",
    "catagorical_len = sum(map(len, mappings))\n",
    "number_len = len(records.first()[11:15])\n",
    "total_len = number_len + catagorical_len"
   ]
  },
  {
   "cell_type": "markdown",
   "metadata": {},
   "source": [
    "We have to mappings for each variable, \n",
    "and we can see how many values in total we need \n",
    "for our binary vector representation:"
   ]
  },
  {
   "cell_type": "markdown",
   "metadata": {},
   "source": [
    "Task 3 for linear Regression "
   ]
  },
  {
   "cell_type": "code",
   "execution_count": 9,
   "metadata": {},
   "outputs": [
    {
     "name": "stdout",
     "output_type": "stream",
     "text": [
      "Feature vector length for categorical features: 57\n",
      "Feature vector length for numerical features: 4\n",
      "Total feature vector length: 61\n"
     ]
    }
   ],
   "source": [
    "print (\"Feature vector length for categorical features: %d\" % catagorical_len)\n",
    "print (\"Feature vector length for numerical features: %d\" % number_len)\n",
    "print (\"Total feature vector length: %d\" % total_len)"
   ]
  },
  {
   "cell_type": "markdown",
   "metadata": {},
   "source": [
    "Now creating feature vector for linear model"
   ]
  },
  {
   "cell_type": "markdown",
   "metadata": {},
   "source": [
    "now again we extract mapping to convert catagorical to binary-encoded features\n",
    "We will need to import numpy for linear algebra utilities and MLlib's LabeledPoint class to wrap our feature vectors and target variables:"
   ]
  },
  {
   "cell_type": "code",
   "execution_count": 10,
   "metadata": {},
   "outputs": [],
   "source": [
    "from pyspark.mllib.regression import LabeledPoint\n",
    "import numpy as np"
   ]
  },
  {
   "cell_type": "code",
   "execution_count": 11,
   "metadata": {},
   "outputs": [],
   "source": [
    "def ex_features(record):\n",
    "    catagorical_vector = np.zeros(catagorical_len)\n",
    "    i = 0\n",
    "    step = 0\n",
    "    for field in record[2:9]:\n",
    "        m = mappings[i]\n",
    "        idx = m[field]\n",
    "        catagorical_vector[idx + step] = 1\n",
    "        i = i + 1\n",
    "        step = step + len(m)\n",
    "    number_vector = np.array([float(field) for field in record[10:14]])\n",
    "    return np.concatenate((catagorical_vector, number_vector))"
   ]
  },
  {
   "cell_type": "code",
   "execution_count": 12,
   "metadata": {},
   "outputs": [],
   "source": [
    "def extract_label(record):\n",
    "    return float(record[-1])"
   ]
  },
  {
   "cell_type": "markdown",
   "metadata": {},
   "source": [
    "ex_features function, we cross through each column in the row of data. \n",
    "We find the binary encoding for each single variable in every turn \n",
    "from the mappings we created previously\n",
    "The step variable ensures that the nonzero feature index in the full feature vector is correct\n",
    "(and is somewhat more efficient than, say, creating many smaller binary vectors and \n",
    " concatenating them). The numeric vector is created directly by first converting the data \n",
    "to floating point numbers and wrapping these in a numpy array. The resulting two vectors \n",
    "are then concatenated. The extract_label function simply converts the last column variable \n",
    "(the count) into a float. With our utility functions defined, we can proceed with extracting \n",
    "feature vectors and labels from our data records:"
   ]
  },
  {
   "cell_type": "code",
   "execution_count": 13,
   "metadata": {},
   "outputs": [],
   "source": [
    "data = records.map(lambda r: LabeledPoint(extract_label(r), ex_features(r)))"
   ]
  },
  {
   "cell_type": "markdown",
   "metadata": {},
   "source": [
    "Lets check our record in the extracted feature RDD:"
   ]
  },
  {
   "cell_type": "code",
   "execution_count": 14,
   "metadata": {},
   "outputs": [
    {
     "name": "stdout",
     "output_type": "stream",
     "text": [
      "Raw data: ['1', '0', '1', '0', '0', '6', '0', '1', '0.24', '0.2879', '0.81', '0', '3', '13', '16']\n",
      "Label: 16.0\n",
      "Linear Model feature vector:\n",
      "[1.0,0.0,0.0,0.0,1.0,0.0,1.0,0.0,0.0,0.0,0.0,0.0,0.0,0.0,0.0,0.0,0.0,0.0,1.0,0.0,0.0,0.0,0.0,0.0,0.0,0.0,0.0,0.0,0.0,0.0,0.0,0.0,0.0,0.0,0.0,0.0,0.0,0.0,0.0,0.0,0.0,0.0,1.0,0.0,0.0,0.0,0.0,1.0,0.0,0.0,0.0,1.0,0.0,0.0,0.0,0.0,0.0,0.24,0.2879,0.81,0.0]\n",
      "Linear Model feature vector length: 61\n"
     ]
    }
   ],
   "source": [
    "first_point = data.first()\n",
    "print (\"Raw data: \" + str(first[2:]))\n",
    "print (\"Label: \" + str(first_point.label))\n",
    "print (\"Linear Model feature vector:\\n\" + str(first_point.features))\n",
    "print (\"Linear Model feature vector length: \" + str(len(first_point.features)))"
   ]
  },
  {
   "cell_type": "markdown",
   "metadata": {},
   "source": [
    "we converted the raw data into a feature vector from the binary categorical and real numeric features, and we have  total vector length of 61 ."
   ]
  },
  {
   "cell_type": "markdown",
   "metadata": {},
   "source": [
    "Train a linear regression model using Stochastic Gradient\n",
    "Descent (SGD).\n",
    "This solves the least squares regression formulation"
   ]
  },
  {
   "cell_type": "code",
   "execution_count": 15,
   "metadata": {},
   "outputs": [],
   "source": [
    "from pyspark.mllib.regression import LinearRegressionWithSGD"
   ]
  },
  {
   "cell_type": "code",
   "execution_count": 16,
   "metadata": {},
   "outputs": [
    {
     "name": "stderr",
     "output_type": "stream",
     "text": [
      "/Users/akashsoni/spark/python/pyspark/mllib/regression.py:281: UserWarning: Deprecated in 2.0.0. Use ml.regression.LinearRegression.\n",
      "  warnings.warn(\"Deprecated in 2.0.0. Use ml.regression.LinearRegression.\")\n"
     ]
    }
   ],
   "source": [
    "linear_model = LinearRegressionWithSGD.train(data, iterations=10,step=0.1, intercept=False)"
   ]
  },
  {
   "cell_type": "code",
   "execution_count": 17,
   "metadata": {},
   "outputs": [
    {
     "name": "stdout",
     "output_type": "stream",
     "text": [
      "Linear Model predictions: [(16.0, 117.89250386724846), (40.0, 116.2249612319211), (32.0, 116.02369145779235), (13.0, 115.67088016754433), (1.0, 115.56315650834317)]\n"
     ]
    }
   ],
   "source": [
    "true_vs_predicted = data.map(lambda p: (p.label, linear_model.predict(p.features)))\n",
    "print (\"Linear Model predictions: \" + str(true_vs_predicted.take(5)))"
   ]
  },
  {
   "cell_type": "code",
   "execution_count": 18,
   "metadata": {},
   "outputs": [],
   "source": [
    "def squared_error(actual, pred):\n",
    "    return (pred - actual)**2"
   ]
  },
  {
   "cell_type": "code",
   "execution_count": 19,
   "metadata": {},
   "outputs": [],
   "source": [
    "def abs_error(actual, pred):\n",
    "    return np.abs(pred - actual)"
   ]
  },
  {
   "cell_type": "code",
   "execution_count": 20,
   "metadata": {},
   "outputs": [],
   "source": [
    "def squared_log_error(pred, actual):\n",
    "    return (np.log(pred + 1) - np.log(actual + 1))**2"
   ]
  },
  {
   "cell_type": "code",
   "execution_count": null,
   "metadata": {},
   "outputs": [],
   "source": []
  },
  {
   "cell_type": "code",
   "execution_count": 21,
   "metadata": {},
   "outputs": [
    {
     "name": "stdout",
     "output_type": "stream",
     "text": [
      "Linear Model - Mean Squared Error: 30679.4539\n"
     ]
    }
   ],
   "source": [
    "li=[]\n",
    "for i in true_vs_predicted.collect():\n",
    "    true,pred=i[0],i[1]\n",
    "    val=(pred - true)**2\n",
    "    li.append(val)\n",
    "lenth=len(li)\n",
    "su=sum(li)\n",
    "mean=su/lenth\n",
    "print (\"Linear Model - Mean Squared Error: %2.4f\" % mean)"
   ]
  },
  {
   "cell_type": "code",
   "execution_count": 22,
   "metadata": {},
   "outputs": [],
   "source": [
    "targets = records.map(lambda r: float(r[-1])).collect()"
   ]
  },
  {
   "cell_type": "markdown",
   "metadata": {},
   "source": [
    "We will now create a plot of the target variable \n",
    "distribution in the following piece of code:\n",
    "\n"
   ]
  },
  {
   "cell_type": "code",
   "execution_count": 23,
   "metadata": {},
   "outputs": [],
   "source": [
    "import pylab"
   ]
  },
  {
   "cell_type": "code",
   "execution_count": 24,
   "metadata": {},
   "outputs": [
    {
     "name": "stdout",
     "output_type": "stream",
     "text": [
      "Populating the interactive namespace from numpy and matplotlib\n"
     ]
    },
    {
     "name": "stderr",
     "output_type": "stream",
     "text": [
      "/anaconda3/lib/python3.6/site-packages/IPython/core/magics/pylab.py:160: UserWarning: pylab import has clobbered these variables: ['mean', 'pylab']\n",
      "`%matplotlib` prevents importing * from pylab and numpy\n",
      "  \"\\n`%matplotlib` prevents importing * from pylab and numpy\"\n"
     ]
    }
   ],
   "source": [
    "%pylab inline"
   ]
  },
  {
   "cell_type": "code",
   "execution_count": 25,
   "metadata": {},
   "outputs": [
    {
     "data": {
      "image/png": "[encoded data removed]",
      "text/plain": [
       "<matplotlib.figure.Figure at 0x1142d8630>"
      ]
     },
     "metadata": {},
     "output_type": "display_data"
    }
   ],
   "source": [
    "hist(targets, bins=40, color='lightblue', normed=True)\n",
    "\n",
    "fig = matplotlib.pyplot.gcf()\n",
    "\n",
    "fig.set_size_inches(16, 10)"
   ]
  },
  {
   "cell_type": "markdown",
   "metadata": {},
   "source": [
    "We will apply a log transformation to the following target variable and plot a histogram of the log-transformed values:"
   ]
  },
  {
   "cell_type": "code",
   "execution_count": 26,
   "metadata": {},
   "outputs": [
    {
     "data": {
      "image/png": "[encoded data removed]",
      "text/plain": [
       "<matplotlib.figure.Figure at 0x1142ffba8>"
      ]
     },
     "metadata": {},
     "output_type": "display_data"
    }
   ],
   "source": [
    "log_targets = records.map(lambda r: np.log(float(r[-1]))).collect()\n",
    "\n",
    "hist(log_targets, bins=40, color='lightblue', normed=True)\n",
    "\n",
    "fig = matplotlib.pyplot.gcf()\n",
    "\n",
    "fig.set_size_inches(16, 10)"
   ]
  },
  {
   "cell_type": "markdown",
   "metadata": {},
   "source": [
    "Impact of training on log-transformed targets\n",
    "\n",
    "So, does applying these transformations have any \n",
    "impact on model performance? \n",
    "Let's evaluate the various metrics we used previously on log-transformed data as an example.\n",
    "\n",
    "We will do this first for the linear model by applying the numpy log function to the label \n",
    "field of each LabeledPoint RDD. Here, we will only transform the target variable, and \n",
    "we will not apply any transformations to the features:"
   ]
  },
  {
   "cell_type": "code",
   "execution_count": 27,
   "metadata": {},
   "outputs": [],
   "source": [
    "data_log = data.map(lambda lp: LabeledPoint(np.log(lp.label), lp.features))\n"
   ]
  },
  {
   "cell_type": "markdown",
   "metadata": {},
   "source": [
    "We will then train a model on this transformed data and \n",
    "form the RDD of predicted versus true values:"
   ]
  },
  {
   "cell_type": "code",
   "execution_count": 28,
   "metadata": {},
   "outputs": [
    {
     "name": "stderr",
     "output_type": "stream",
     "text": [
      "/Users/akashsoni/spark/python/pyspark/mllib/regression.py:281: UserWarning: Deprecated in 2.0.0. Use ml.regression.LinearRegression.\n",
      "  warnings.warn(\"Deprecated in 2.0.0. Use ml.regression.LinearRegression.\")\n"
     ]
    }
   ],
   "source": [
    "model_log = LinearRegressionWithSGD.train(data_log, iterations=10, step=0.1)"
   ]
  },
  {
   "cell_type": "markdown",
   "metadata": {},
   "source": [
    "we have transformed the target variable, the predictions of the model will be on the log scale,\n",
    "as will the target values of the transformed dataset. Therefore, in order to use our model and \n",
    "evaluate its performance, we must first transform the log data back into the original scale by \n",
    "taking the exponent of both the predicted and true values using the numpy exp function.\n",
    "We will show you how to do this in the code here:"
   ]
  },
  {
   "cell_type": "code",
   "execution_count": 29,
   "metadata": {},
   "outputs": [],
   "source": [
    "true_vs_predicted_log = data_log.map(lambda p: (np.exp(p.label), np.exp(model_log.predict(p.features))))"
   ]
  },
  {
   "cell_type": "code",
   "execution_count": 30,
   "metadata": {},
   "outputs": [
    {
     "name": "stdout",
     "output_type": "stream",
     "text": [
      "17379\n",
      "log - Mean Squared Error: 50685.5559\n",
      "log - Mean Absolue Error: 155.2955\n",
      "Root Mean Squared Log Error: 1.5411\n"
     ]
    }
   ],
   "source": [
    "nn=[]\n",
    "ab=[]\n",
    "s_log=[]\n",
    "for i in true_vs_predicted_log.collect():\n",
    "    real,predict=i[0],i[1]\n",
    "    value=(predict - real)**2\n",
    "    value1=np.abs(predict - real)\n",
    "    value2=(np.log(predict + 1) - np.log(real + 1))**2\n",
    "    nn.append(value)\n",
    "    ab.append(value1)\n",
    "    s_log.append(value2)\n",
    "value_len=len(nn)\n",
    "print( value_len)\n",
    "ss=sum(nn)\n",
    "t=ss/value_len\n",
    "ab_sum=sum(ab)\n",
    "ab_mean=ab_sum/value_len\n",
    "s_log_sum=sum(s_log)\n",
    "s_log_mean=np.sqrt(s_log_sum/value_len)\n",
    "print (\"log - Mean Squared Error: %2.4f\" % t)\n",
    "print(\"log - Mean Absolue Error: %2.4f\" % ab_mean)\n",
    "print(\"Root Mean Squared Log Error: %2.4f\" % s_log_mean)\n"
   ]
  },
  {
   "cell_type": "code",
   "execution_count": 31,
   "metadata": {},
   "outputs": [
    {
     "name": "stdout",
     "output_type": "stream",
     "text": [
      "Non log-transformed predictions:\n",
      "[(16.0, 117.89250386724846), (40.0, 116.2249612319211), (32.0, 116.02369145779235)]\n",
      "Log-transformed predictions:\n",
      "[(15.999999999999998, 28.080291845456212), (40.0, 26.959480191001784), (32.0, 26.65472562945802)]\n"
     ]
    }
   ],
   "source": [
    "print (\"Non log-transformed predictions:\\n\" + str(true_vs_predicted.take(3)))\n",
    "\n",
    "print (\"Log-transformed predictions:\\n\" + str(true_vs_predicted_log.take(3)))"
   ]
  },
  {
   "cell_type": "markdown",
   "metadata": {},
   "source": [
    "# Tuning model parameters"
   ]
  },
  {
   "cell_type": "markdown",
   "metadata": {},
   "source": [
    "So far in this chapter, we have illustrated the concepts of model training and \n",
    "evaluation for MLlib's regression models by training and testing on the same dataset. \n",
    "We will now use a similar cross-validation approach that we used previously to evaluate \n",
    "the effect on performance of different parameter settings for our models"
   ]
  },
  {
   "cell_type": "markdown",
   "metadata": {},
   "source": [
    "One relatively easy way to do this is by first taking a random sample of, say, 20 percent of our data as our test set. We will then define our training set as the elements of the original RDD that are not in the test set RDD."
   ]
  },
  {
   "cell_type": "markdown",
   "metadata": {},
   "source": [
    "# Spliting data into training and test data for cross validation"
   ]
  },
  {
   "cell_type": "code",
   "execution_count": 32,
   "metadata": {},
   "outputs": [],
   "source": [
    "train, test = data.randomSplit([0.8, 0.2], seed=12345)"
   ]
  },
  {
   "cell_type": "code",
   "execution_count": 33,
   "metadata": {},
   "outputs": [],
   "source": [
    "train_size=train.count()"
   ]
  },
  {
   "cell_type": "code",
   "execution_count": 34,
   "metadata": {},
   "outputs": [],
   "source": [
    "test_size=test.count()"
   ]
  },
  {
   "cell_type": "code",
   "execution_count": 35,
   "metadata": {},
   "outputs": [
    {
     "name": "stdout",
     "output_type": "stream",
     "text": [
      "Training data size: 13834\n"
     ]
    }
   ],
   "source": [
    "print (\"Training data size: %d\" % train_size)"
   ]
  },
  {
   "cell_type": "code",
   "execution_count": 36,
   "metadata": {},
   "outputs": [
    {
     "name": "stdout",
     "output_type": "stream",
     "text": [
      "Test data size: 3545\n"
     ]
    }
   ],
   "source": [
    "print (\"Test data size: %d\" % test_size)"
   ]
  },
  {
   "cell_type": "code",
   "execution_count": 37,
   "metadata": {},
   "outputs": [
    {
     "name": "stdout",
     "output_type": "stream",
     "text": [
      "Train + Test size : 17379\n"
     ]
    }
   ],
   "source": [
    "print (\"Train + Test size : %d\" % (train_size + test_size))"
   ]
  },
  {
   "cell_type": "markdown",
   "metadata": {},
   "source": [
    "We can confirm that we now have two distinct datasets that add up to the original dataset in total:\n",
    "\n",
    "Training data size: 13934\n",
    "\n",
    "Test data size: 3545\n",
    "\n",
    "Total data size: 17379\n",
    "\n",
    "Train + Test size : 17379\n",
    "\n"
   ]
  },
  {
   "cell_type": "markdown",
   "metadata": {},
   "source": [
    "# The impact of parameter settings for linear models"
   ]
  },
  {
   "cell_type": "markdown",
   "metadata": {},
   "source": [
    "Now that we have prepared our training and test sets, we are ready to investigate the impact of different parameter settings on model performance. We will first carry out this evaluation for the linear model. We will create a convenience function to evaluate the relevant performance metric by training the model on the training set and evaluating it on the test set for different parameter settings.\n",
    "\n",
    "We will use the RMSLE evaluation metric, as it is the one used in the Kaggle competition with this dataset, and this allows us to compare our model results against the competition leaderboard to see how we perform.\n",
    "\n",
    "The evaluation function is defined here:"
   ]
  },
  {
   "cell_type": "code",
   "execution_count": 38,
   "metadata": {},
   "outputs": [],
   "source": [
    "def squared_log_error(pred, actual):\n",
    "    return (np.log(pred + 1) - np.log(actual + 1))**2"
   ]
  },
  {
   "cell_type": "code",
   "execution_count": 39,
   "metadata": {},
   "outputs": [],
   "source": [
    "def evaluate(train, test, iterations, step, regParam, regType, intercept):\n",
    "\n",
    "    model = LinearRegressionWithSGD.train(train, iterations, step, regParam=regParam, regType=regType, intercept=intercept)\n",
    "\n",
    "    tp = test.map(lambda p: (p.label, model.predict(p.features)))\n",
    "    \n",
    "    new_val=[]\n",
    "    for i in tp.collect():\n",
    "        actual=i[0]\n",
    "        pred=i[1]\n",
    "        va=(np.log(pred + 1) - np.log(actual + 1))**2\n",
    "        new_val.append(va)\n",
    "    lenth=len(new_val)\n",
    "    s_new_val=sum(new_val)\n",
    "    mean_new_val=s_new_val/lenth\n",
    "    rmsle=np.sqrt(mean_new_val)\n",
    "    return rmsle"
   ]
  },
  {
   "cell_type": "markdown",
   "metadata": {},
   "source": [
    "# Iterations"
   ]
  },
  {
   "cell_type": "markdown",
   "metadata": {},
   "source": [
    "As we saw when evaluating our classification models, we generally expect that a model trained with SGD will achieve better performance as the number of iterations increases, although the increase in performance will slow down as the number of iterations goes above some minimum number. Note that here, we will set the step size to 0.01 to better illustrate the impact at higher iteration numbers:"
   ]
  },
  {
   "cell_type": "code",
   "execution_count": 40,
   "metadata": {},
   "outputs": [
    {
     "name": "stderr",
     "output_type": "stream",
     "text": [
      "/Users/akashsoni/spark/python/pyspark/mllib/regression.py:281: UserWarning: Deprecated in 2.0.0. Use ml.regression.LinearRegression.\n",
      "  warnings.warn(\"Deprecated in 2.0.0. Use ml.regression.LinearRegression.\")\n"
     ]
    },
    {
     "name": "stdout",
     "output_type": "stream",
     "text": [
      "[1, 5, 10, 20, 50, 100]\n",
      "[2.9204455616016656, 2.0695085222669265, 1.79815897170536, 1.594156705081269, 1.43308397524522, 1.3878383528812235]\n"
     ]
    }
   ],
   "source": [
    "params = [1, 5, 10, 20, 50, 100]\n",
    "\n",
    "metrics = [evaluate(train, test, param, 0.01, 0.0, 'l2', False) for param in params]\n",
    "\n",
    "print (params)\n",
    "\n",
    "print (metrics)"
   ]
  },
  {
   "cell_type": "markdown",
   "metadata": {},
   "source": [
    "Here, we will use the matplotlib library to plot a graph of the RMSLE metric against the number of iterations. We will use a log scale for the x axis to make the output easier to visualize:"
   ]
  },
  {
   "cell_type": "code",
   "execution_count": 41,
   "metadata": {},
   "outputs": [
    {
     "data": {
      "image/png": "[encoded data removed]",
      "text/plain": [
       "<matplotlib.figure.Figure at 0x11ccc9ef0>"
      ]
     },
     "metadata": {},
     "output_type": "display_data"
    }
   ],
   "source": [
    "plot(params, metrics)\n",
    "\n",
    "fig = matplotlib.pyplot.gcf()\n",
    "pyplot.xlabel('Metrics for varying number of iterations')\n",
    "pyplot.xscale('log')"
   ]
  },
  {
   "cell_type": "markdown",
   "metadata": {},
   "source": [
    "# Step size"
   ]
  },
  {
   "cell_type": "markdown",
   "metadata": {},
   "source": [
    "We will perform a similar analysis for step size in the following code:"
   ]
  },
  {
   "cell_type": "code",
   "execution_count": 42,
   "metadata": {},
   "outputs": [],
   "source": [
    "params = [0.01, 0.025, 0.05, 0.1, 1.0]"
   ]
  },
  {
   "cell_type": "code",
   "execution_count": 43,
   "metadata": {},
   "outputs": [
    {
     "name": "stderr",
     "output_type": "stream",
     "text": [
      "/Users/akashsoni/spark/python/pyspark/mllib/regression.py:281: UserWarning: Deprecated in 2.0.0. Use ml.regression.LinearRegression.\n",
      "  warnings.warn(\"Deprecated in 2.0.0. Use ml.regression.LinearRegression.\")\n",
      "/anaconda3/lib/python3.6/site-packages/ipykernel_launcher.py:11: RuntimeWarning: invalid value encountered in log\n",
      "  # This is added back by InteractiveShellApp.init_path()\n"
     ]
    }
   ],
   "source": [
    "metrics = [evaluate(train, test, 10, param, 0.0, 'l2', False) for param in params]"
   ]
  },
  {
   "cell_type": "code",
   "execution_count": 44,
   "metadata": {},
   "outputs": [
    {
     "name": "stdout",
     "output_type": "stream",
     "text": [
      "[0.01, 0.025, 0.05, 0.1, 1.0]\n",
      "[1.79815897170536, 1.432660677663247, 1.3921046531899715, 1.463373357714063, nan]\n"
     ]
    }
   ],
   "source": [
    "print (params)\n",
    "print (metrics)"
   ]
  },
  {
   "cell_type": "markdown",
   "metadata": {},
   "source": [
    "Now, we can see why we avoided using the default step size when training the linear model originally. The default is set to 1.0, which, in this case, results in a nan output for the RMSLE metric. This typically means that the SGD model has converged to a very poor local minimum in the error function that it is optimizing. This can happen when the step size is relatively large, as it is easier for the optimization algorithm to overshoot good solutions.\n",
    "\n",
    "We can also see that for low step sizes and a relatively low number of iterations (we used 10 here), the model performance is slightly poorer. However, in the preceding Iterations section, we saw that for the lower step-size setting, a higher number of iterations will generally converge to a better solution.\n",
    "\n",
    "Generally speaking, setting step size and number of iterations involves a trade-off. A lower step size means that convergence is slower but slightly more assured. However, it requires a higher number of iterations, which is more costly in terms of computation and time, in particular at a very large scale."
   ]
  },
  {
   "cell_type": "markdown",
   "metadata": {},
   "source": [
    "Selecting the best parameter settings can be an intensive process that involves training a model on many combinations of parameter settings and selecting the best outcome. Each instance of model training involves a number of iterations, so this process can be very expensive and time consuming when performed on very large datasets.\n",
    "\n",
    "The output is plotted here, again using a log scale for the step-size axis:"
   ]
  },
  {
   "cell_type": "code",
   "execution_count": 45,
   "metadata": {},
   "outputs": [
    {
     "data": {
      "image/png": "[encoded data removed]",
      "text/plain": [
       "<matplotlib.figure.Figure at 0x11d10c5f8>"
      ]
     },
     "metadata": {},
     "output_type": "display_data"
    }
   ],
   "source": [
    "plot(params, metrics)\n",
    "\n",
    "fig = matplotlib.pyplot.gcf()\n",
    "pyplot.xlabel('Metrics for varying values of step size')\n",
    "pyplot.xscale('log')"
   ]
  },
  {
   "cell_type": "markdown",
   "metadata": {},
   "source": [
    "# L2 regularization"
   ]
  },
  {
   "cell_type": "markdown",
   "metadata": {},
   "source": [
    "egularization has the effect of penalizing model complexity in the form of an additional loss term that is a function of the model weight vector. L2 regularization penalizes the L2-norm of the weight vector, while L1 regularization penalizes the L1-norm."
   ]
  },
  {
   "cell_type": "markdown",
   "metadata": {},
   "source": [
    "We expect training set performance to deteriorate with increasing regularization, as the model cannot fit the dataset well. However, we would also expect some amount of regularization that will result in optimal generalization performance as evidenced by the best performance on the test set."
   ]
  },
  {
   "cell_type": "code",
   "execution_count": 46,
   "metadata": {},
   "outputs": [
    {
     "name": "stderr",
     "output_type": "stream",
     "text": [
      "/Users/akashsoni/spark/python/pyspark/mllib/regression.py:281: UserWarning: Deprecated in 2.0.0. Use ml.regression.LinearRegression.\n",
      "  warnings.warn(\"Deprecated in 2.0.0. Use ml.regression.LinearRegression.\")\n"
     ]
    },
    {
     "name": "stdout",
     "output_type": "stream",
     "text": [
      "[0.0, 0.01, 0.1, 1.0, 5.0, 10.0, 20.0]\n",
      "[1.463373357714063, 1.4627638795194882, 1.457389998406437, 1.414347928269498, 1.4006915016046428, 1.5458042588519074, 1.8520326400407603]\n"
     ]
    }
   ],
   "source": [
    "params = [0.0, 0.01, 0.1, 1.0, 5.0, 10.0, 20.0]\n",
    "\n",
    "metrics = [evaluate(train, test, 10, 0.1, param, 'l2', False) for param in params]\n",
    "\n",
    "print (params)\n",
    "\n",
    "print (metrics)"
   ]
  },
  {
   "cell_type": "code",
   "execution_count": 47,
   "metadata": {},
   "outputs": [
    {
     "data": {
      "image/png": "[encoded data removed]",
      "text/plain": [
       "<matplotlib.figure.Figure at 0x11d41cb70>"
      ]
     },
     "metadata": {},
     "output_type": "display_data"
    }
   ],
   "source": [
    "plot(params, metrics)\n",
    "\n",
    "fig = matplotlib.pyplot.gcf()\n",
    "pyplot.xlabel('Metrics for varying levels of L2 regularization')\n",
    "pyplot.xscale('log')"
   ]
  },
  {
   "cell_type": "markdown",
   "metadata": {},
   "source": [
    "# L1 regularization"
   ]
  },
  {
   "cell_type": "markdown",
   "metadata": {},
   "source": [
    "We can apply the same approach for differing levels of L1 regularization:\n"
   ]
  },
  {
   "cell_type": "code",
   "execution_count": 48,
   "metadata": {},
   "outputs": [
    {
     "name": "stderr",
     "output_type": "stream",
     "text": [
      "/Users/akashsoni/spark/python/pyspark/mllib/regression.py:281: UserWarning: Deprecated in 2.0.0. Use ml.regression.LinearRegression.\n",
      "  warnings.warn(\"Deprecated in 2.0.0. Use ml.regression.LinearRegression.\")\n"
     ]
    },
    {
     "name": "stdout",
     "output_type": "stream",
     "text": [
      "[0.0, 0.01, 0.1, 1.0, 10.0, 100.0, 1000.0]\n",
      "[1.463373357714063, 1.4633409680931317, 1.4630506454349392, 1.4603658739928238, 1.4355688529629576, 1.7677660966171576, 4.800777158151935]\n"
     ]
    }
   ],
   "source": [
    "params = [0.0, 0.01, 0.1, 1.0, 10.0, 100.0, 1000.0]\n",
    "\n",
    "metrics = [evaluate(train, test, 10, 0.1, param, 'l1', False) for param in params]\n",
    "\n",
    "print (params)\n",
    "\n",
    "print (metrics)"
   ]
  },
  {
   "cell_type": "code",
   "execution_count": 49,
   "metadata": {},
   "outputs": [
    {
     "data": {
      "image/png": "[encoded data removed]",
      "text/plain": [
       "<matplotlib.figure.Figure at 0x11cd02128>"
      ]
     },
     "metadata": {},
     "output_type": "display_data"
    }
   ],
   "source": [
    "plot(params, metrics)\n",
    "\n",
    "fig = matplotlib.pyplot.gcf()\n",
    "pyplot.xlabel('Metrics for varying levels of L1 regularization')\n",
    "pyplot.xscale('log')"
   ]
  },
  {
   "cell_type": "markdown",
   "metadata": {},
   "source": [
    "Using L1 regularization can encourage sparse weight vectors. Does this hold true in this case? We can find out by examining the number of entries in the weight vector that are zero, with increasing levels of regularization:"
   ]
  },
  {
   "cell_type": "code",
   "execution_count": 50,
   "metadata": {},
   "outputs": [
    {
     "name": "stderr",
     "output_type": "stream",
     "text": [
      "/Users/akashsoni/spark/python/pyspark/mllib/regression.py:281: UserWarning: Deprecated in 2.0.0. Use ml.regression.LinearRegression.\n",
      "  warnings.warn(\"Deprecated in 2.0.0. Use ml.regression.LinearRegression.\")\n"
     ]
    },
    {
     "name": "stdout",
     "output_type": "stream",
     "text": [
      "L1 (1.0) number of zero weights: 4\n",
      "L1 (10.0) number of zeros weights: 33\n",
      "L1 (100.0) number of zeros weights: 58\n"
     ]
    }
   ],
   "source": [
    "model_l1 = LinearRegressionWithSGD.train(train, 10, 0.1, regParam=1.0, regType='l1', intercept=False)\n",
    "\n",
    "model_l1_10 = LinearRegressionWithSGD.train(train, 10, 0.1, regParam=10.0, regType='l1', intercept=False)\n",
    "\n",
    "model_l1_100 = LinearRegressionWithSGD.train(train, 10, 0.1, regParam=100.0, regType='l1', intercept=False)\n",
    "\n",
    "print (\"L1 (1.0) number of zero weights: \" + str(sum(model_l1.weights.array == 0)))\n",
    "\n",
    "print (\"L1 (10.0) number of zeros weights: \" + str(sum(model_l1_10.weights.array == 0)))\n",
    "\n",
    "print (\"L1 (100.0) number of zeros weights: \" + str(sum(model_l1_100.weights.array == 0)))"
   ]
  },
  {
   "cell_type": "markdown",
   "metadata": {},
   "source": [
    "# Intercept"
   ]
  },
  {
   "cell_type": "markdown",
   "metadata": {},
   "source": [
    "The final parameter option for the linear model is whether to use an intercept or not. An intercept is a constant term that is added to the weight vector and effectively accounts for the mean value of the target variable. If the data is already centered or normalized, an intercept is not necessary; however, it often does not hurt to use one in any case."
   ]
  },
  {
   "cell_type": "markdown",
   "metadata": {},
   "source": [
    "We will evaluate the effect of adding an intercept term to the model here:"
   ]
  },
  {
   "cell_type": "code",
   "execution_count": 51,
   "metadata": {},
   "outputs": [
    {
     "name": "stderr",
     "output_type": "stream",
     "text": [
      "/Users/akashsoni/spark/python/pyspark/mllib/regression.py:281: UserWarning: Deprecated in 2.0.0. Use ml.regression.LinearRegression.\n",
      "  warnings.warn(\"Deprecated in 2.0.0. Use ml.regression.LinearRegression.\")\n"
     ]
    },
    {
     "name": "stdout",
     "output_type": "stream",
     "text": [
      "[False, True]\n",
      "[1.414347928269498, 1.4431958566566532]\n"
     ]
    }
   ],
   "source": [
    "params = [False, True]\n",
    "\n",
    "metrics = [evaluate(train, test, 10, 0.1, 1.0, 'l2', param) for param in params]\n",
    "\n",
    "print (params)\n",
    "\n",
    "print (metrics)"
   ]
  },
  {
   "cell_type": "code",
   "execution_count": 52,
   "metadata": {},
   "outputs": [
    {
     "data": {
      "image/png": "[encoded data removed]",
      "text/plain": [
       "<matplotlib.figure.Figure at 0x119ce0e10>"
      ]
     },
     "metadata": {},
     "output_type": "display_data"
    }
   ],
   "source": [
    "bar(params, metrics, color='lightblue')\n",
    "pyplot.xlabel('Metrics without and with an intercept')\n",
    "fig = matplotlib.pyplot.gcf()"
   ]
  },
  {
   "cell_type": "markdown",
   "metadata": {},
   "source": [
    "# Decision Tree"
   ]
  },
  {
   "cell_type": "markdown",
   "metadata": {},
   "source": [
    "Creating feature vectors for the decision tree"
   ]
  },
  {
   "cell_type": "markdown",
   "metadata": {},
   "source": [
    "As we have seen, decision tree models typically work on raw features (that is, it is not required to convert categorical features into a binary vector encoding; they can, instead, be used directly). Therefore, we will create a separate function to extract the decision tree feature vector, which simply converts all the values to floats and wraps them in a numpy array:"
   ]
  },
  {
   "cell_type": "code",
   "execution_count": 53,
   "metadata": {},
   "outputs": [],
   "source": [
    "def extract_features_dt(record):\n",
    "    return np.array(list(map(float, record[2:14])))"
   ]
  },
  {
   "cell_type": "code",
   "execution_count": 54,
   "metadata": {},
   "outputs": [],
   "source": [
    "def extract_label(record):\n",
    "    return float(record[-1])"
   ]
  },
  {
   "cell_type": "code",
   "execution_count": 55,
   "metadata": {},
   "outputs": [],
   "source": [
    "data_dt = records.map(lambda r: LabeledPoint(extract_label(r),extract_features_dt(r)))\n"
   ]
  },
  {
   "cell_type": "code",
   "execution_count": 56,
   "metadata": {},
   "outputs": [
    {
     "name": "stdout",
     "output_type": "stream",
     "text": [
      "Decision Tree feature vector: [1.0,0.0,1.0,0.0,0.0,6.0,0.0,1.0,0.24,0.2879,0.81,0.0]\n",
      "Decision Tree feature vector length: 12\n"
     ]
    }
   ],
   "source": [
    "first_point_dt = data_dt.first()\n",
    "print (\"Decision Tree feature vector: \" + str(first_point_dt.features))\n",
    "print (\"Decision Tree feature vector length: \" + str(len(first_point_dt.features)))"
   ]
  },
  {
   "cell_type": "code",
   "execution_count": 57,
   "metadata": {},
   "outputs": [],
   "source": [
    "\n",
    "from pyspark.mllib.tree import DecisionTree"
   ]
  },
  {
   "cell_type": "code",
   "execution_count": 58,
   "metadata": {},
   "outputs": [
    {
     "name": "stdout",
     "output_type": "stream",
     "text": [
      "Decision Tree predictions: [(16.0, 54.913223140495866), (40.0, 54.913223140495866), (32.0, 53.171052631578945), (13.0, 14.284023668639053), (1.0, 14.284023668639053)]\n",
      "Decision Tree depth: 5\n",
      "Decision Tree number of nodes: 63\n"
     ]
    }
   ],
   "source": [
    "dt_model = DecisionTree.trainRegressor(data_dt,{})\n",
    "preds = dt_model.predict(data_dt.map(lambda p: p.features))\n",
    "actual = data.map(lambda p: p.label)\n",
    "true_vs_predicted_dt = actual.zip(preds)\n",
    "print (\"Decision Tree predictions: \" + str(true_vs_predicted_dt.take(5)))\n",
    "print (\"Decision Tree depth: \" + str(dt_model.depth()))\n",
    "print (\"Decision Tree number of nodes: \" + str(dt_model.numNodes()))"
   ]
  },
  {
   "cell_type": "markdown",
   "metadata": {},
   "source": [
    "We will use the same approach for the decision tree model, using the true_vs_predicted_dt RDD:"
   ]
  },
  {
   "cell_type": "code",
   "execution_count": 59,
   "metadata": {},
   "outputs": [
    {
     "name": "stdout",
     "output_type": "stream",
     "text": [
      "17379\n",
      "log - Mean Squared Error: 11611.4860\n",
      "log - Mean Absolue Error: 71.1502\n",
      "Root Mean Squared Log Error: 0.6251\n"
     ]
    }
   ],
   "source": [
    "nn=[]\n",
    "ab=[]\n",
    "s_log=[]\n",
    "for i in true_vs_predicted_dt.collect():\n",
    "    real,predict=i[0],i[1]\n",
    "    value=(predict - real)**2\n",
    "    value1=np.abs(predict - real)\n",
    "    value2=(np.log(predict + 1) - np.log(real + 1))**2\n",
    "    nn.append(value)\n",
    "    ab.append(value1)\n",
    "    s_log.append(value2)\n",
    "value_len=len(nn)\n",
    "print( value_len)\n",
    "ss=sum(nn)\n",
    "t=ss/value_len\n",
    "ab_sum=sum(ab)\n",
    "ab_mean=ab_sum/value_len\n",
    "s_log_sum=sum(s_log)\n",
    "s_log_mean=np.sqrt(s_log_sum/value_len)\n",
    "print (\"log - Mean Squared Error: %2.4f\" % t)\n",
    "print(\"log - Mean Absolue Error: %2.4f\" % ab_mean)\n",
    "print(\"Root Mean Squared Log Error: %2.4f\" % s_log_mean)"
   ]
  },
  {
   "cell_type": "markdown",
   "metadata": {},
   "source": [
    "# Impact of training on log-transformed targets"
   ]
  },
  {
   "cell_type": "markdown",
   "metadata": {},
   "source": [
    "We will perform the same analysis for the decision tree model:"
   ]
  },
  {
   "cell_type": "code",
   "execution_count": 60,
   "metadata": {},
   "outputs": [],
   "source": [
    "data_dt_log = data_dt.map(lambda lp: LabeledPoint(np.log(lp.label), lp.features))\n",
    "\n",
    "dt_model_log = DecisionTree.trainRegressor(data_dt_log,{})\n",
    "\n",
    "preds_log = dt_model_log.predict(data_dt_log.map(lambda p: p.features))\n",
    "\n",
    "actual_log = data_dt_log.map(lambda p: p.label)\n"
   ]
  },
  {
   "cell_type": "code",
   "execution_count": 61,
   "metadata": {},
   "outputs": [],
   "source": [
    "new=actual_log.zip(preds_log)"
   ]
  },
  {
   "cell_type": "code",
   "execution_count": 62,
   "metadata": {},
   "outputs": [
    {
     "data": {
      "text/plain": [
       "[(2.772588722239781, 3.6251613906330347),\n",
       " (3.6888794541139363, 3.6251613906330347),\n",
       " (3.4657359027997265, 1.985090627799027),\n",
       " (2.5649493574615367, 1.985090627799027),\n",
       " (0.0, 1.985090627799027)]"
      ]
     },
     "execution_count": 62,
     "metadata": {},
     "output_type": "execute_result"
    }
   ],
   "source": [
    "new.take(5)"
   ]
  },
  {
   "cell_type": "code",
   "execution_count": null,
   "metadata": {},
   "outputs": [],
   "source": []
  },
  {
   "cell_type": "code",
   "execution_count": 63,
   "metadata": {},
   "outputs": [],
   "source": [
    "true_vs_predicted_dt_log=[]\n",
    "for val in new.collect():\n",
    "    t,p=val[0],val[1]\n",
    "    x=np.exp(t),np.exp(p)\n",
    "    true_vs_predicted_dt_log.append(x)"
   ]
  },
  {
   "cell_type": "code",
   "execution_count": null,
   "metadata": {},
   "outputs": [],
   "source": []
  },
  {
   "cell_type": "code",
   "execution_count": 64,
   "metadata": {},
   "outputs": [
    {
     "name": "stdout",
     "output_type": "stream",
     "text": [
      "17379\n",
      "log - Mean Squared Error: 14781.5760\n",
      "log - Mean Absolue Error: 76.4131\n",
      "Root Mean Squared Log Error: 0.6406\n",
      "Non log-transformed predictions:\n",
      "[(16.0, 54.913223140495866), (40.0, 54.913223140495866), (32.0, 53.171052631578945)]\n"
     ]
    }
   ],
   "source": [
    "nn=[]\n",
    "ab=[]\n",
    "s_log=[]\n",
    "for i in true_vs_predicted_dt_log:\n",
    "    real,predict=i[0],i[1]\n",
    "    value=(predict - real)**2\n",
    "    value1=np.abs(predict - real)\n",
    "    value2=(np.log(predict + 1) - np.log(real + 1))**2\n",
    "    nn.append(value)\n",
    "    ab.append(value1)\n",
    "    s_log.append(value2)\n",
    "value_len=len(nn)\n",
    "print( value_len)\n",
    "ss=sum(nn)\n",
    "t=ss/value_len\n",
    "ab_sum=sum(ab)\n",
    "ab_mean=ab_sum/value_len\n",
    "s_log_sum=sum(s_log)\n",
    "s_log_mean=np.sqrt(s_log_sum/value_len)\n",
    "print (\"log - Mean Squared Error: %2.4f\" % t)\n",
    "print(\"log - Mean Absolue Error: %2.4f\" % ab_mean)\n",
    "print(\"Root Mean Squared Log Error: %2.4f\" % s_log_mean)\n",
    "print (\"Non log-transformed predictions:\\n\" + str(true_vs_predicted_dt.take(3)))\n"
   ]
  },
  {
   "cell_type": "markdown",
   "metadata": {},
   "source": [
    "# CROSS VALIDATION for the decision tree"
   ]
  },
  {
   "cell_type": "code",
   "execution_count": 65,
   "metadata": {},
   "outputs": [],
   "source": [
    "train_dt, test_dt = data_dt.randomSplit([0.8, 0.2], seed=12345)"
   ]
  },
  {
   "cell_type": "markdown",
   "metadata": {},
   "source": [
    "The impact of parameter settings for the decision tree"
   ]
  },
  {
   "cell_type": "code",
   "execution_count": 66,
   "metadata": {},
   "outputs": [],
   "source": [
    "def evaluate_dt(train, test, maxDepth, maxBins):\n",
    "\n",
    "    model = DecisionTree.trainRegressor(train, {}, impurity='variance', maxDepth=maxDepth, maxBins=maxBins)\n",
    "\n",
    "    preds = model.predict(test.map(lambda p: p.features))\n",
    "\n",
    "    actual = test.map(lambda p: p.label)\n",
    "\n",
    "    tp = actual.zip(preds)\n",
    "    new_val=[]\n",
    "    for i in tp.collect():\n",
    "        actual=i[0]\n",
    "        pred=i[1]\n",
    "        va=(np.log(pred + 1) - np.log(actual + 1))**2\n",
    "        new_val.append(va)\n",
    "    lenth=len(new_val)\n",
    "    s_new_val=sum(new_val)\n",
    "    mean_new_val=s_new_val/lenth\n",
    "    rmsle=np.sqrt(mean_new_val)\n",
    "    return rmsle\n",
    "    "
   ]
  },
  {
   "cell_type": "markdown",
   "metadata": {},
   "source": [
    "# Tree depth"
   ]
  },
  {
   "cell_type": "markdown",
   "metadata": {},
   "source": [
    "We would generally expect performance to increase with more complex trees (that is, trees of greater depth). Having a lower tree depth acts as a form of regularization, and it might be the case that as with L2 or L1 regularization in linear models, there is a tree depth that is optimal with respect to the test set performance.\n",
    "\n",
    "Here, we will try to increase the depths of trees to see what impact they have on test set RMSLE, keeping the number of bins at the default level of 32:"
   ]
  },
  {
   "cell_type": "code",
   "execution_count": 67,
   "metadata": {},
   "outputs": [
    {
     "name": "stdout",
     "output_type": "stream",
     "text": [
      "[1, 2, 3, 4, 5, 10, 20]\n",
      "[1.0009455704281573, 0.9071380409401831, 0.8083991513814845, 0.7316093046671605, 0.6252775817287765, 0.43025139584509925, 0.4467589576168234]\n"
     ]
    },
    {
     "data": {
      "image/png": "[encoded data removed]",
      "text/plain": [
       "<matplotlib.figure.Figure at 0x11ccda780>"
      ]
     },
     "metadata": {},
     "output_type": "display_data"
    }
   ],
   "source": [
    "params = [1, 2, 3, 4, 5, 10, 20]\n",
    "\n",
    "metrics = [evaluate_dt(train_dt, test_dt, param, 32) for param in params]\n",
    "\n",
    "print (params)\n",
    "\n",
    "print (metrics)\n",
    "\n",
    "plot(params, metrics)\n",
    "pyplot.xlabel('Metrics for different tree depths')\n",
    "fig = matplotlib.pyplot.gcf()"
   ]
  },
  {
   "cell_type": "markdown",
   "metadata": {},
   "source": [
    "# Maximum bins"
   ]
  },
  {
   "cell_type": "markdown",
   "metadata": {},
   "source": [
    "Finally, we will perform our evaluation on the impact of setting the number of bins for the decision tree. As with the tree depth, a larger number of bins should allow the model to become more complex and might help performance with larger feature dimensions. After a certain point, it is unlikely that it will help any more and might, in fact, hinder performance on the test set due to over-fitting:"
   ]
  },
  {
   "cell_type": "code",
   "execution_count": 68,
   "metadata": {},
   "outputs": [
    {
     "name": "stdout",
     "output_type": "stream",
     "text": [
      "[2, 4, 8, 16, 32, 64, 100]\n",
      "[1.2692079792473667, 0.8059355903824542, 0.7446332199349833, 0.5969914946964172, 0.6252775817287765, 0.6252775817287765, 0.6252775817287765]\n"
     ]
    },
    {
     "data": {
      "image/png": "[encoded data removed]",
      "text/plain": [
       "<matplotlib.figure.Figure at 0x11d1b83c8>"
      ]
     },
     "metadata": {},
     "output_type": "display_data"
    }
   ],
   "source": [
    "params = [2, 4, 8, 16, 32, 64, 100]\n",
    "\n",
    "metrics = [evaluate_dt(train_dt, test_dt, 5, param) for param in params]\n",
    "\n",
    "print (params)\n",
    "\n",
    "print (metrics)\n",
    "\n",
    "plot(params, metrics)\n",
    "pyplot.xlabel('Metrics for different maximum bins')\n",
    "fig = matplotlib.pyplot.gcf()"
   ]
  },
  {
   "cell_type": "markdown",
   "metadata": {},
   "source": [
    "# Gradient BOOSTED TREE"
   ]
  },
  {
   "cell_type": "code",
   "execution_count": 69,
   "metadata": {},
   "outputs": [],
   "source": [
    "from pyspark.mllib.tree import GradientBoostedTrees, GradientBoostedTreesModel\n"
   ]
  },
  {
   "cell_type": "code",
   "execution_count": 70,
   "metadata": {},
   "outputs": [],
   "source": [
    "data_gbt = records.map(lambda r: LabeledPoint(extract_label(r),extract_features_dt(r)))"
   ]
  },
  {
   "cell_type": "code",
   "execution_count": 74,
   "metadata": {},
   "outputs": [],
   "source": [
    "(trainingData, testData) = data_gbt.randomSplit([0.7, 0.3])"
   ]
  },
  {
   "cell_type": "code",
   "execution_count": 75,
   "metadata": {},
   "outputs": [
    {
     "name": "stdout",
     "output_type": "stream",
     "text": [
      "Gradient BOOSTED predictions: [(32.0, 21.043168257608315), (1.0, 21.043168257608315), (2.0, 20.78800044083532), (14.0, 122.94779932705194), (36.0, 122.94779932705194)]\n"
     ]
    }
   ],
   "source": [
    "model = GradientBoostedTrees.trainRegressor(trainingData,\n",
    "                                            categoricalFeaturesInfo={}, numIterations=3)\n",
    "preds = model.predict(testData.map(lambda p: p.features))\n",
    "actual = testData.map(lambda p: p.label)\n",
    "true_vs_predicted_GBT = actual.zip(preds)\n",
    "print (\"Gradient BOOSTED predictions: \" + str(true_vs_predicted_GBT.take(5)))\n",
    "\n"
   ]
  },
  {
   "cell_type": "code",
   "execution_count": 77,
   "metadata": {},
   "outputs": [
    {
     "name": "stdout",
     "output_type": "stream",
     "text": [
      "5274\n",
      "log - Mean Squared Error: 13350.5537\n",
      "log - Mean Absolue Error: 80.6329\n",
      "Root Mean Squared Log Error: 0.7853\n"
     ]
    }
   ],
   "source": [
    "nn=[]\n",
    "ab=[]\n",
    "s_log=[]\n",
    "for i in true_vs_predicted_GBT.collect():\n",
    "    real,predict=i[0],i[1]\n",
    "    value=(predict - real)**2\n",
    "    value1=np.abs(predict - real)\n",
    "    value2=(np.log(predict + 1) - np.log(real + 1))**2\n",
    "    nn.append(value)\n",
    "    ab.append(value1)\n",
    "    s_log.append(value2)\n",
    "value_len=len(nn)\n",
    "print( value_len)\n",
    "ss=sum(nn)\n",
    "t=ss/value_len\n",
    "ab_sum=sum(ab)\n",
    "ab_mean=ab_sum/value_len\n",
    "s_log_sum=sum(s_log)\n",
    "\n",
    "s_log_mean=np.sqrt(s_log_sum/value_len)\n",
    "print (\"log - Mean Squared Error: %2.4f\" % t)\n",
    "print(\"log - Mean Absolue Error: %2.4f\" % ab_mean)\n",
    "print(\"Root Mean Squared Log Error: %2.4f\" % s_log_mean)"
   ]
  },
  {
   "cell_type": "code",
   "execution_count": 146,
   "metadata": {},
   "outputs": [],
   "source": [
    "def evaluate_dt(trainingData,categoricalFeaturesInfo, loss, numIterations, maxDepth, maxBins):\n",
    "\n",
    "    model = GradientBoostedTrees.trainRegressor(trainingData,categoricalFeaturesInfo, loss,numIterations,maxDepth=maxDepth, maxBins=maxBins)\n",
    "\n",
    "    preds = model.predict(testData.map(lambda p: p.features))\n",
    "\n",
    "    actual = testData.map(lambda p: p.label)\n",
    "\n",
    "    tp = actual.zip(preds)\n",
    "    new_val=[]\n",
    "    for i in tp.collect():\n",
    "        actual=i[0]\n",
    "        pred=i[1]\n",
    "        va=(np.log(pred + 1) - np.log(actual + 1))**2\n",
    "        new_val.append(va)\n",
    "    lenth=len(new_val)\n",
    "    s_new_val=sum(new_val)\n",
    "    mean_new_val=s_new_val/lenth\n",
    "    rmsle=np.sqrt(mean_new_val)\n",
    "    return rmsle"
   ]
  },
  {
   "cell_type": "markdown",
   "metadata": {},
   "source": [
    "# Gradient boost tree Iteration"
   ]
  },
  {
   "cell_type": "code",
   "execution_count": 149,
   "metadata": {},
   "outputs": [
    {
     "name": "stdout",
     "output_type": "stream",
     "text": [
      "[2, 4, 8, 16, 32, 64, 100]\n",
      "[0.8134345004020272, 0.8127317477436009, 0.8113281083567387, 0.808549849515173, 0.8031158350948435, 0.7927594410577089, 0.7820605621004253]\n"
     ]
    },
    {
     "data": {
      "image/png": "[encoded data removed]",
      "text/plain": [
       "<matplotlib.figure.Figure at 0x11d2b5978>"
      ]
     },
     "metadata": {},
     "output_type": "display_data"
    }
   ],
   "source": [
    "params = [2, 4, 8, 16, 32, 64, 100]\n",
    "\n",
    "metrics = [evaluate_dt(trainingData, {},'leastAbsoluteError', param,3, 32) for param in params]\n",
    "\n",
    "print (params)\n",
    "\n",
    "print (metrics)\n",
    "\n",
    "plot(params, metrics)\n",
    "\n",
    "fig = matplotlib.pyplot.gcf()\n",
    "pyplot.xlabel('Metrics for varying number of iterations')\n",
    "pyplot.xscale('log')"
   ]
  },
  {
   "cell_type": "code",
   "execution_count": 148,
   "metadata": {},
   "outputs": [
    {
     "name": "stdout",
     "output_type": "stream",
     "text": [
      "[2, 4, 8, 16, 32, 64, 100]\n",
      "[1.2841906521739503, 0.8628661947197386, 0.8241029850613957, 0.8089035578039226, 0.810628070877074, 0.810628070877074, 0.810628070877074]\n"
     ]
    },
    {
     "data": {
      "image/png": "[encoded data removed]",
      "text/plain": [
       "<matplotlib.figure.Figure at 0x11cd61278>"
      ]
     },
     "metadata": {},
     "output_type": "display_data"
    }
   ],
   "source": [
    "params = [2, 4, 8, 16, 32, 64, 100]\n",
    "\n",
    "metrics = [evaluate_dt(trainingData, {},'leastAbsoluteError',10,3, param) for param in params]\n",
    "\n",
    "print (params)\n",
    "\n",
    "print (metrics)\n",
    "\n",
    "plot(params, metrics)\n",
    "pyplot.xlabel('Metrics for different maximum bins')\n",
    "fig = matplotlib.pyplot.gcf()"
   ]
  },
  {
   "cell_type": "code",
   "execution_count": null,
   "metadata": {},
   "outputs": [],
   "source": []
  }
 ],
 "metadata": {
  "kernelspec": {
   "display_name": "Python 3",
   "language": "python",
   "name": "python3"
  }
 },
 "nbformat": 4,
 "nbformat_minor": 2
}
